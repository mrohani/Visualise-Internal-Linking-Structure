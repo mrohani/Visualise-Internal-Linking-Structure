{
  "nbformat": 4,
  "nbformat_minor": 0,
  "metadata": {
    "colab": {
      "name": "Visualise Links Screaming Frog.ipynb",
      "provenance": [],
      "collapsed_sections": [],
      "include_colab_link": true
    },
    "kernelspec": {
      "name": "python3",
      "display_name": "Python 3"
    },
    "language_info": {
      "name": "python"
    }
  },
  "cells": [
    {
      "cell_type": "markdown",
      "metadata": {
        "id": "view-in-github",
        "colab_type": "text"
      },
      "source": [
        "<a href=\"https://colab.research.google.com/github/mrohani/Visualise-Internal-Linking-Structure/blob/main/Visualise_Links_Frog.ipynb\" target=\"_parent\"><img src=\"https://colab.research.google.com/assets/colab-badge.svg\" alt=\"Open In Colab\"/></a>"
      ]
    },
    {
      "cell_type": "markdown",
      "metadata": {
        "id": "9zI6__uY6j2h"
      },
      "source": [
        "# Visualise Internal Linking Structure \n",
        "\n",
        "\n",
        "## File Formats (CSV Exports Only!)\n",
        "\n",
        "\n",
        "*   Screaming Frog \n",
        "*   ahrefs Backlinks \n",
        "*   Search Console Internal Links \n",
        "*   Search Console External Links \n",
        "\n",
        "# coulms example\n",
        "\n",
        "  Target page\n",
        "  Internal links,\n",
        "  Target Page, \n",
        "  Linking Sites, \n",
        "  Link URL, \n",
        "  Referring Domains,\n",
        "\n",
        " # How to Run?\n",
        " go to top menu => Runtime => Run all\n",
        "\n",
        "\n"
      ]
    },
    {
      "cell_type": "code",
      "metadata": {
        "colab": {
          "base_uri": "https://localhost:8080/"
        },
        "id": "O3A5MhRuwEwW",
        "outputId": "159011ef-4c9e-4b65-afe7-22e75ffc9a76"
      },
      "source": [
        "!pip install pandas\n",
        "!pip install pip install plotly==5.0.0"
      ],
      "execution_count": 31,
      "outputs": [
        {
          "output_type": "stream",
          "text": [
            "Requirement already satisfied: pandas in /usr/local/lib/python3.7/dist-packages (1.1.5)\n",
            "Requirement already satisfied: pytz>=2017.2 in /usr/local/lib/python3.7/dist-packages (from pandas) (2018.9)\n",
            "Requirement already satisfied: numpy>=1.15.4 in /usr/local/lib/python3.7/dist-packages (from pandas) (1.19.5)\n",
            "Requirement already satisfied: python-dateutil>=2.7.3 in /usr/local/lib/python3.7/dist-packages (from pandas) (2.8.1)\n",
            "Requirement already satisfied: six>=1.5 in /usr/local/lib/python3.7/dist-packages (from python-dateutil>=2.7.3->pandas) (1.15.0)\n",
            "Requirement already satisfied: pip in /usr/local/lib/python3.7/dist-packages (19.3.1)\n",
            "Requirement already satisfied: install in /usr/local/lib/python3.7/dist-packages (1.3.4)\n",
            "Requirement already satisfied: plotly==5.0.0 in /usr/local/lib/python3.7/dist-packages (5.0.0)\n",
            "Requirement already satisfied: six in /usr/local/lib/python3.7/dist-packages (from plotly==5.0.0) (1.15.0)\n",
            "Requirement already satisfied: tenacity>=6.2.0 in /usr/local/lib/python3.7/dist-packages (from plotly==5.0.0) (7.0.0)\n"
          ],
          "name": "stdout"
        }
      ]
    },
    {
      "cell_type": "code",
      "metadata": {
        "id": "GAhTVRxUwVl2"
      },
      "source": [
        "import pandas as pd\n",
        "import urllib.parse as urlparse\n",
        "import plotly.express as px\n",
        "import io\n",
        "from google.colab import files"
      ],
      "execution_count": 32,
      "outputs": []
    },
    {
      "cell_type": "code",
      "metadata": {
        "id": "5ZvAIsXX4dSp"
      },
      "source": [
        "cols=[\"Address\", \"Indexability\", \"Inlinks\"]"
      ],
      "execution_count": 33,
      "outputs": []
    },
    {
      "cell_type": "code",
      "metadata": {
        "colab": {
          "resources": {
            "http://localhost:8080/nbextensions/google.colab/files.js": {
              "data": "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",
              "ok": true,
              "headers": [
                [
                  "content-type",
                  "application/javascript"
                ]
              ],
              "status": 200,
              "status_text": ""
            }
          },
          "base_uri": "https://localhost:8080/",
          "height": 72
        },
        "id": "dKM-mkFywzED",
        "outputId": "5b1c1d67-e7f5-4e52-ff79-8a3e5a1bd78d"
      },
      "source": [
        "# upload the Screaming Frog crawl File (internal_html.csv)\n",
        "uploaded = files.upload()"
      ],
      "execution_count": 30,
      "outputs": [
        {
          "output_type": "display_data",
          "data": {
            "text/html": [
              "\n",
              "     <input type=\"file\" id=\"files-1e39d31a-ef4d-41f6-97a8-e4d564f266f2\" name=\"files[]\" multiple disabled\n",
              "        style=\"border:none\" />\n",
              "     <output id=\"result-1e39d31a-ef4d-41f6-97a8-e4d564f266f2\">\n",
              "      Upload widget is only available when the cell has been executed in the\n",
              "      current browser session. Please rerun this cell to enable.\n",
              "      </output>\n",
              "      <script src=\"/nbextensions/google.colab/files.js\"></script> "
            ],
            "text/plain": [
              "<IPython.core.display.HTML object>"
            ]
          },
          "metadata": {
            "tags": []
          }
        },
        {
          "output_type": "stream",
          "text": [
            "Saving internal_all.csv to internal_all.csv\n"
          ],
          "name": "stdout"
        }
      ]
    },
    {
      "cell_type": "code",
      "metadata": {
        "colab": {
          "base_uri": "https://localhost:8080/"
        },
        "id": "cZq-5WXGyQYB",
        "outputId": "81fadee4-18b3-4ed6-ef16-255610888b09"
      },
      "source": [
        "filename = list(uploaded.keys())[0]\n",
        "df = pd.read_csv(io.StringIO(uploaded[filename].decode('utf-8', errors='ignore')))\n",
        "print(\"Imported Crawl File ..\")"
      ],
      "execution_count": 34,
      "outputs": [
        {
          "output_type": "stream",
          "text": [
            "Imported Crawl File ..\n"
          ],
          "name": "stdout"
        }
      ]
    },
    {
      "cell_type": "code",
      "metadata": {
        "colab": {
          "base_uri": "https://localhost:8080/"
        },
        "id": "BNBSIq054vtW",
        "outputId": "9c8a2606-058d-43bf-8067-ecc87b1f12a3"
      },
      "source": [
        "df.rename(columns={\"Target page\": \"Address\", \"Internal links\": \"Inlinks\", \"Target Page\":\"Address\", \"Linking Sites\": \"Inlinks\", \"Link URL\": \"Address\", \"Referring Domains\": \"Inlinks\"}, inplace=True)\n",
        "print(df)"
      ],
      "execution_count": 35,
      "outputs": [
        {
          "output_type": "stream",
          "text": [
            "                                              Address  ...                                URL Encoded Address\n",
            "0                                 https://rouhani.in/  ...                                https://rouhani.in/\n",
            "1   https://rouhani.in/wp-content/litespeed/cssjs/...  ...  https://rouhani.in/wp-content/litespeed/cssjs/...\n",
            "2   https://rouhani.in/wp-includes/js/jquery/jquer...  ...  https://rouhani.in/wp-includes/js/jquery/jquer...\n",
            "3   https://rouhani.in/سئو-و-پایتون-نصب-برنامه-ana...  ...  https://rouhani.in/%D8%B3%D8%A6%D9%88-%D9%88-%...\n",
            "4   https://rouhani.in/author/e298a1462a3e321b64a6...  ...  https://rouhani.in/author/e298a1462a3e321b64a6...\n",
            "..                                                ...  ...                                                ...\n",
            "64  https://rouhani.in/wp-content/litespeed/cssjs/...  ...  https://rouhani.in/wp-content/litespeed/cssjs/...\n",
            "65  https://rouhani.in/wp-content/litespeed/cssjs/...  ...  https://rouhani.in/wp-content/litespeed/cssjs/...\n",
            "66  https://rouhani.in/wp-content/uploads/2020/09/...  ...  https://rouhani.in/wp-content/uploads/2020/09/...\n",
            "67  https://rouhani.in/wp-content/litespeed/cssjs/...  ...  https://rouhani.in/wp-content/litespeed/cssjs/...\n",
            "68                 https://rouhani.in/cat/هوش-مصنوعی/  ...  https://rouhani.in/cat/%D9%87%D9%88%D8%B4-%D9%...\n",
            "\n",
            "[69 rows x 46 columns]\n"
          ],
          "name": "stdout"
        }
      ]
    },
    {
      "cell_type": "code",
      "metadata": {
        "colab": {
          "base_uri": "https://localhost:8080/"
        },
        "id": "RgyVkWzIyIlX",
        "outputId": "a81679be-6985-4c2a-acdc-d9740e272933"
      },
      "source": [
        "try:\n",
        "  df = df[~df[\"Indexability\"].isin([\"Non-Indexable\"])]\n",
        "  print(\"Dropped Non-Indexable Rows\")\n",
        "except Exception:\n",
        "  pass\n",
        "  print(\"Indexability Column Not Found - Unable to Drop Non-Indexable Pages!\")\n",
        "print(df)"
      ],
      "execution_count": 36,
      "outputs": [
        {
          "output_type": "stream",
          "text": [
            "Dropped Non-Indexable Rows\n",
            "                                              Address  ...                                URL Encoded Address\n",
            "0                                 https://rouhani.in/  ...                                https://rouhani.in/\n",
            "1   https://rouhani.in/wp-content/litespeed/cssjs/...  ...  https://rouhani.in/wp-content/litespeed/cssjs/...\n",
            "2   https://rouhani.in/wp-includes/js/jquery/jquer...  ...  https://rouhani.in/wp-includes/js/jquery/jquer...\n",
            "3   https://rouhani.in/سئو-و-پایتون-نصب-برنامه-ana...  ...  https://rouhani.in/%D8%B3%D8%A6%D9%88-%D9%88-%...\n",
            "4   https://rouhani.in/author/e298a1462a3e321b64a6...  ...  https://rouhani.in/author/e298a1462a3e321b64a6...\n",
            "..                                                ...  ...                                                ...\n",
            "64  https://rouhani.in/wp-content/litespeed/cssjs/...  ...  https://rouhani.in/wp-content/litespeed/cssjs/...\n",
            "65  https://rouhani.in/wp-content/litespeed/cssjs/...  ...  https://rouhani.in/wp-content/litespeed/cssjs/...\n",
            "66  https://rouhani.in/wp-content/uploads/2020/09/...  ...  https://rouhani.in/wp-content/uploads/2020/09/...\n",
            "67  https://rouhani.in/wp-content/litespeed/cssjs/...  ...  https://rouhani.in/wp-content/litespeed/cssjs/...\n",
            "68                 https://rouhani.in/cat/هوش-مصنوعی/  ...  https://rouhani.in/cat/%D9%87%D9%88%D8%B4-%D9%...\n",
            "\n",
            "[67 rows x 46 columns]\n"
          ],
          "name": "stdout"
        }
      ]
    },
    {
      "cell_type": "code",
      "metadata": {
        "id": "EcKkOwJGy1uT"
      },
      "source": [
        "df['protocol'],df['domain'],df['path'],df['query'],df['fragment'] = zip(*df['Address'].map(urlparse.urlsplit))"
      ],
      "execution_count": 37,
      "outputs": []
    },
    {
      "cell_type": "code",
      "metadata": {
        "id": "AJpxPbm12SxY"
      },
      "source": [
        "# make temp df to split with expand=true and then merge back by the index.\n",
        "df2 = df['path'].str.split('/', expand=True)\n",
        "df = pd.merge(df, df2, left_index=True, right_index=True)"
      ],
      "execution_count": 38,
      "outputs": []
    },
    {
      "cell_type": "code",
      "metadata": {
        "id": "hvge5R-W06xx"
      },
      "source": [
        "fig = px.treemap(df, path=[1, 'Address'], values='Inlinks')"
      ],
      "execution_count": 39,
      "outputs": []
    },
    {
      "cell_type": "code",
      "metadata": {
        "colab": {
          "base_uri": "https://localhost:8080/",
          "height": 542
        },
        "id": "nrd3m9Bv2gAC",
        "outputId": "015c161b-ea47-4f57-b3ef-c84ca89853e8"
      },
      "source": [
        "fig.show()"
      ],
      "execution_count": 40,
      "outputs": [
        {
          "output_type": "display_data",
          "data": {
            "text/html": [
              "<html>\n",
              "<head><meta charset=\"utf-8\" /></head>\n",
              "<body>\n",
              "    <div>            <script src=\"https://cdnjs.cloudflare.com/ajax/libs/mathjax/2.7.5/MathJax.js?config=TeX-AMS-MML_SVG\"></script><script type=\"text/javascript\">if (window.MathJax) {MathJax.Hub.Config({SVG: {font: \"STIX-Web\"}});}</script>                <script type=\"text/javascript\">window.PlotlyConfig = {MathJaxConfig: 'local'};</script>\n",
              "        <script src=\"https://cdn.plot.ly/plotly-2.1.0.min.js\"></script>                <div id=\"d3e0de28-34d7-40fc-b45f-8934a28efa01\" class=\"plotly-graph-div\" style=\"height:525px; width:100%;\"></div>            <script type=\"text/javascript\">                                    window.PLOTLYENV=window.PLOTLYENV || {};                                    if (document.getElementById(\"d3e0de28-34d7-40fc-b45f-8934a28efa01\")) {                    Plotly.newPlot(                        \"d3e0de28-34d7-40fc-b45f-8934a28efa01\",                        [{\"branchvalues\":\"total\",\"domain\":{\"x\":[0.0,1.0],\"y\":[0.0,1.0]},\"hovertemplate\":\"labels=%{label}<br>Inlinks=%{value}<br>parent=%{parent}<br>id=%{id}<extra></extra>\",\"ids\":[\"/https://rouhani.in/\",\"author/https://rouhani.in/author/e298a1462a3e321b64a6cd8b60252ee6/\",\"author/https://rouhani.in/author/e298a1462a3e321b64a6cd8b60252ee6/page/2/\",\"blog/https://rouhani.in/blog/\",\"blog/https://rouhani.in/blog/page/2/\",\"cat/https://rouhani.in/cat/how-tos/\",\"cat/https://rouhani.in/cat/\\u0622\\u0645\\u0648\\u0632\\u0634-\\u0628\\u0631\\u0646\\u0627\\u0645\\u0647-\\u0646\\u0648\\u06cc\\u0633\\u06cc/\",\"cat/https://rouhani.in/cat/\\u0622\\u0645\\u0648\\u0632\\u0634-\\u0633\\u0626\\u0648/\",\"cat/https://rouhani.in/cat/\\u0627\\u062e\\u0628\\u0627\\u0631/\",\"cat/https://rouhani.in/cat/\\u062f\\u0633\\u062a\\u0647\\u200c\\u0628\\u0646\\u062f\\u06cc-\\u0646\\u0634\\u062f\\u0647/\",\"cat/https://rouhani.in/cat/\\u0645\\u0639\\u0645\\u0627\\u0631\\u06cc-\\u0646\\u0631\\u0645-\\u0627\\u0641\\u0632\\u0627\\u0631/\",\"cat/https://rouhani.in/cat/\\u0647\\u0648\\u0634-\\u0645\\u0635\\u0646\\u0648\\u0639\\u06cc/\",\"page-experience/https://rouhani.in/page-experience/\",\"pwa/https://rouhani.in/pwa/\",\"tag/https://rouhani.in/tag/ai/\",\"tag/https://rouhani.in/tag/apple/\",\"tag/https://rouhani.in/tag/ios/\",\"tag/https://rouhani.in/tag/pwa/\",\"tag/https://rouhani.in/tag/swift/\",\"tag/https://rouhani.in/tag/\\u0627\\u067e\\u0644/\",\"tag/https://rouhani.in/tag/\\u0628\\u0631\\u0646\\u0627\\u0645\\u0647-\\u0646\\u0648\\u06cc\\u0633\\u06cc/\",\"tag/https://rouhani.in/tag/\\u0633\\u0626\\u0648/\",\"tag/https://rouhani.in/tag/\\u0633\\u0648\\u0626\\u064a\\u0641/\",\"tag/https://rouhani.in/tag/\\u0633\\u0648\\u0626\\u06cc\\u0641\\u062a/\",\"tag/https://rouhani.in/tag/\\u0647\\u0648\\u0634-\\u0645\\u0635\\u0646\\u0648\\u0639\\u06cc/\",\"tag/https://rouhani.in/tag/\\u0648\\u0628-\\u0627\\u0633\\u062a\\u0648\\u0631\\u06cc/\",\"tag/https://rouhani.in/tag/\\u0648\\u0628-\\u0627\\u067e\\u0644\\u06cc\\u06a9\\u06cc\\u0634\\u0646/\",\"tag/https://rouhani.in/tag/\\u067e\\u0631\\u062f\\u0627\\u0632\\u0634-\\u062a\\u0635\\u0648\\u06cc\\u0631/\",\"wp-content/https://rouhani.in/wp-content/litespeed/cssjs/1863d.js?e53d3\",\"wp-content/https://rouhani.in/wp-content/litespeed/cssjs/27f2e.css?22af9\",\"wp-content/https://rouhani.in/wp-content/litespeed/cssjs/37bac.css?b4d02\",\"wp-content/https://rouhani.in/wp-content/litespeed/cssjs/4578c.js?bef8b\",\"wp-content/https://rouhani.in/wp-content/litespeed/cssjs/615e1.js?d6203\",\"wp-content/https://rouhani.in/wp-content/litespeed/cssjs/6b292.js?5a05d\",\"wp-content/https://rouhani.in/wp-content/litespeed/cssjs/742c6.js?dbd97\",\"wp-content/https://rouhani.in/wp-content/litespeed/cssjs/75258.js?1c7e0\",\"wp-content/https://rouhani.in/wp-content/litespeed/cssjs/7bf86.js?60a23\",\"wp-content/https://rouhani.in/wp-content/litespeed/cssjs/84862.css?cddab\",\"wp-content/https://rouhani.in/wp-content/litespeed/cssjs/874a0.js?af54e\",\"wp-content/https://rouhani.in/wp-content/litespeed/cssjs/8b674.css?bc472\",\"wp-content/https://rouhani.in/wp-content/litespeed/cssjs/8bcb8.js?60907\",\"wp-content/https://rouhani.in/wp-content/litespeed/cssjs/9213f.js?17593\",\"wp-content/https://rouhani.in/wp-content/litespeed/cssjs/ac644.js?3020a\",\"wp-content/https://rouhani.in/wp-content/litespeed/cssjs/b728b.js?5b8de\",\"wp-content/https://rouhani.in/wp-content/litespeed/cssjs/c114e.css?0dc2e\",\"wp-content/https://rouhani.in/wp-content/litespeed/cssjs/c42fd.js?93a38\",\"wp-content/https://rouhani.in/wp-content/litespeed/cssjs/cac2b.js?1cf99\",\"wp-content/https://rouhani.in/wp-content/litespeed/cssjs/cd8fe.js?d327a\",\"wp-content/https://rouhani.in/wp-content/litespeed/cssjs/e2b9e.css?a5e48\",\"wp-content/https://rouhani.in/wp-content/litespeed/cssjs/e3629.css?f63cd\",\"wp-content/https://rouhani.in/wp-content/plugins/litespeed-cache/assets/js/instant_click.min.js\",\"wp-content/https://rouhani.in/wp-content/uploads/2020/09/\\u0648\\u0628-\\u0627\\u0633\\u062a\\u0648\\u0631\\u06cc.png\",\"wp-includes/https://rouhani.in/wp-includes/js/jquery/jquery.min.js\",\"\\u0622\\u0645\\u0648\\u0632\\u0634-\\u0632\\u0628\\u0627\\u0646-swift-\\u0642\\u0633\\u0645\\u062a-\\u0627\\u0648\\u0644/https://rouhani.in/\\u0622\\u0645\\u0648\\u0632\\u0634-\\u0632\\u0628\\u0627\\u0646-swift-\\u0642\\u0633\\u0645\\u062a-\\u0627\\u0648\\u0644/\",\"\\u0622\\u0645\\u0648\\u0632\\u0634-\\u0632\\u0628\\u0627\\u0646-swift-\\u0642\\u0633\\u0645\\u062a-\\u062f\\u0648\\u0645/https://rouhani.in/\\u0622\\u0645\\u0648\\u0632\\u0634-\\u0632\\u0628\\u0627\\u0646-swift-\\u0642\\u0633\\u0645\\u062a-\\u062f\\u0648\\u0645/\",\"\\u0627\\u0646\\u0648\\u0627\\u0639-\\u0645\\u0639\\u0645\\u0627\\u0631\\u06cc-\\u0646\\u0631\\u0645-\\u0627\\u0641\\u0632\\u0627\\u0631-\\u0622\\u0645\\u0648\\u0632\\u0634-\\u0645\\u0639\\u0645\\u0627\\u0631\\u06cc-\\u0646\\u0631/https://rouhani.in/\\u0627\\u0646\\u0648\\u0627\\u0639-\\u0645\\u0639\\u0645\\u0627\\u0631\\u06cc-\\u0646\\u0631\\u0645-\\u0627\\u0641\\u0632\\u0627\\u0631-\\u0622\\u0645\\u0648\\u0632\\u0634-\\u0645\\u0639\\u0645\\u0627\\u0631\\u06cc-\\u0646\\u0631/\",\"\\u0628\\u0627\\u0632\\u06cc\\u0627\\u0628\\u06cc-\\u0627\\u0637\\u0644\\u0627\\u0639\\u0627\\u062a-\\u0648-\\u0622\\u0634\\u0646\\u0627\\u06cc\\u06cc-\\u0628\\u0627-\\u0645\\u0641\\u0627\\u0647\\u06cc\\u0645-\\u0627\\u0648\\u0644/https://rouhani.in/\\u0628\\u0627\\u0632\\u06cc\\u0627\\u0628\\u06cc-\\u0627\\u0637\\u0644\\u0627\\u0639\\u0627\\u062a-\\u0648-\\u0622\\u0634\\u0646\\u0627\\u06cc\\u06cc-\\u0628\\u0627-\\u0645\\u0641\\u0627\\u0647\\u06cc\\u0645-\\u0627\\u0648\\u0644/\",\"\\u062b\\u0628\\u062a-\\u067e\\u0627\\u062f\\u06a9\\u0633\\u062a-\\u06af\\u0648\\u06af\\u0644/https://rouhani.in/\\u062b\\u0628\\u062a-\\u067e\\u0627\\u062f\\u06a9\\u0633\\u062a-\\u06af\\u0648\\u06af\\u0644/\",\"\\u062c\\u0633\\u062a\\u062c\\u0648-\\u06af\\u0648\\u06af\\u0644-\\u0686\\u06af\\u0648\\u0646\\u0647-\\u06a9\\u0627\\u0631-\\u0645\\u06cc\\u06a9\\u0646\\u062f\\u061f/https://rouhani.in/\\u062c\\u0633\\u062a\\u062c\\u0648-\\u06af\\u0648\\u06af\\u0644-\\u0686\\u06af\\u0648\\u0646\\u0647-\\u06a9\\u0627\\u0631-\\u0645\\u06cc\\u06a9\\u0646\\u062f\\u061f/\",\"\\u0632\\u0645\\u06cc\\u0646\\u0647-\\u0647\\u0627\\u06cc-\\u0645\\u0631\\u062a\\u0628\\u0637-\\u0628\\u0627-\\u0647\\u0648\\u0634-\\u0645\\u0635\\u0646\\u0648\\u0639\\u06cc/https://rouhani.in/\\u0632\\u0645\\u06cc\\u0646\\u0647-\\u0647\\u0627\\u06cc-\\u0645\\u0631\\u062a\\u0628\\u0637-\\u0628\\u0627-\\u0647\\u0648\\u0634-\\u0645\\u0635\\u0646\\u0648\\u0639\\u06cc/\",\"\\u0633\\u0626\\u0648-\\u0648-\\u067e\\u0627\\u06cc\\u062a\\u0648\\u0646-\\u0646\\u0635\\u0628-\\u0628\\u0631\\u0646\\u0627\\u0645\\u0647-anaconda-\\u0648-\\u067e\\u0627\\u06cc\\u062a\\u0648\\u0646/https://rouhani.in/\\u0633\\u0626\\u0648-\\u0648-\\u067e\\u0627\\u06cc\\u062a\\u0648\\u0646-\\u0646\\u0635\\u0628-\\u0628\\u0631\\u0646\\u0627\\u0645\\u0647-anaconda-\\u0648-\\u067e\\u0627\\u06cc\\u062a\\u0648\\u0646/\",\"\\u0646\\u0645\\u0648\\u0646\\u0647-\\u0648\\u0628-\\u0627\\u0633\\u062a\\u0648\\u0631\\u06cc/https://rouhani.in/\\u0646\\u0645\\u0648\\u0646\\u0647-\\u0648\\u0628-\\u0627\\u0633\\u062a\\u0648\\u0631\\u06cc/\",\"\\u0647\\u0648\\u0634-\\u0645\\u0635\\u0646\\u0648\\u0639\\u06cc-\\u0686\\u06cc\\u0633\\u062a/https://rouhani.in/\\u0647\\u0648\\u0634-\\u0645\\u0635\\u0646\\u0648\\u0639\\u06cc-\\u0686\\u06cc\\u0633\\u062a/\",\"\\u0648\\u0628-\\u0627\\u0633\\u062a\\u0648\\u0631\\u06cc/https://rouhani.in/\\u0648\\u0628-\\u0627\\u0633\\u062a\\u0648\\u0631\\u06cc/\",\"\\u067e\\u0627\\u06cc\\u062a\\u0648\\u0646-\\u0648-\\u0633\\u0626\\u0648-\\u0686\\u0631\\u0627-\\u067e\\u0627\\u06cc\\u062a\\u0648\\u0646-\\u0631\\u0627-\\u0628\\u0631\\u0627\\u06cc-\\u0633\\u0626\\u0648-\\u06cc\\u0627\\u062f/https://rouhani.in/\\u067e\\u0627\\u06cc\\u062a\\u0648\\u0646-\\u0648-\\u0633\\u0626\\u0648-\\u0686\\u0631\\u0627-\\u067e\\u0627\\u06cc\\u062a\\u0648\\u0646-\\u0631\\u0627-\\u0628\\u0631\\u0627\\u06cc-\\u0633\\u0626\\u0648-\\u06cc\\u0627\\u062f/\",\"\\u067e\\u06cc\\u062f\\u0627-\\u06a9\\u0631\\u062f\\u0646-\\u06a9\\u0644\\u0645\\u0627\\u062a-\\u06a9\\u0644\\u06cc\\u062f\\u06cc-\\u0645\\u0639\\u0631\\u0641\\u06cc-\\u0627\\u0628\\u0632\\u0627\\u0631-\\u0647\\u0627\\u06cc/https://rouhani.in/\\u067e\\u06cc\\u062f\\u0627-\\u06a9\\u0631\\u062f\\u0646-\\u06a9\\u0644\\u0645\\u0627\\u062a-\\u06a9\\u0644\\u06cc\\u062f\\u06cc-\\u0645\\u0639\\u0631\\u0641\\u06cc-\\u0627\\u0628\\u0632\\u0627\\u0631-\\u0647\\u0627\\u06cc/\",\"\\u0686\\u06af\\u0648\\u0646\\u0647-\\u067e\\u0627\\u06cc\\u062a\\u0648\\u0646-\\u0631\\u0627-\\u06cc\\u0627\\u062f-\\u0628\\u06af\\u06cc\\u0631\\u06cc\\u0645/https://rouhani.in/\\u0686\\u06af\\u0648\\u0646\\u0647-\\u067e\\u0627\\u06cc\\u062a\\u0648\\u0646-\\u0631\\u0627-\\u06cc\\u0627\\u062f-\\u0628\\u06af\\u06cc\\u0631\\u06cc\\u0645/\",\"\",\"author\",\"blog\",\"cat\",\"page-experience\",\"pwa\",\"tag\",\"wp-content\",\"wp-includes\",\"\\u0622\\u0645\\u0648\\u0632\\u0634-\\u0632\\u0628\\u0627\\u0646-swift-\\u0642\\u0633\\u0645\\u062a-\\u0627\\u0648\\u0644\",\"\\u0622\\u0645\\u0648\\u0632\\u0634-\\u0632\\u0628\\u0627\\u0646-swift-\\u0642\\u0633\\u0645\\u062a-\\u062f\\u0648\\u0645\",\"\\u0627\\u0646\\u0648\\u0627\\u0639-\\u0645\\u0639\\u0645\\u0627\\u0631\\u06cc-\\u0646\\u0631\\u0645-\\u0627\\u0641\\u0632\\u0627\\u0631-\\u0622\\u0645\\u0648\\u0632\\u0634-\\u0645\\u0639\\u0645\\u0627\\u0631\\u06cc-\\u0646\\u0631\",\"\\u0628\\u0627\\u0632\\u06cc\\u0627\\u0628\\u06cc-\\u0627\\u0637\\u0644\\u0627\\u0639\\u0627\\u062a-\\u0648-\\u0622\\u0634\\u0646\\u0627\\u06cc\\u06cc-\\u0628\\u0627-\\u0645\\u0641\\u0627\\u0647\\u06cc\\u0645-\\u0627\\u0648\\u0644\",\"\\u062b\\u0628\\u062a-\\u067e\\u0627\\u062f\\u06a9\\u0633\\u062a-\\u06af\\u0648\\u06af\\u0644\",\"\\u062c\\u0633\\u062a\\u062c\\u0648-\\u06af\\u0648\\u06af\\u0644-\\u0686\\u06af\\u0648\\u0646\\u0647-\\u06a9\\u0627\\u0631-\\u0645\\u06cc\\u06a9\\u0646\\u062f\\u061f\",\"\\u0632\\u0645\\u06cc\\u0646\\u0647-\\u0647\\u0627\\u06cc-\\u0645\\u0631\\u062a\\u0628\\u0637-\\u0628\\u0627-\\u0647\\u0648\\u0634-\\u0645\\u0635\\u0646\\u0648\\u0639\\u06cc\",\"\\u0633\\u0626\\u0648-\\u0648-\\u067e\\u0627\\u06cc\\u062a\\u0648\\u0646-\\u0646\\u0635\\u0628-\\u0628\\u0631\\u0646\\u0627\\u0645\\u0647-anaconda-\\u0648-\\u067e\\u0627\\u06cc\\u062a\\u0648\\u0646\",\"\\u0646\\u0645\\u0648\\u0646\\u0647-\\u0648\\u0628-\\u0627\\u0633\\u062a\\u0648\\u0631\\u06cc\",\"\\u0647\\u0648\\u0634-\\u0645\\u0635\\u0646\\u0648\\u0639\\u06cc-\\u0686\\u06cc\\u0633\\u062a\",\"\\u0648\\u0628-\\u0627\\u0633\\u062a\\u0648\\u0631\\u06cc\",\"\\u067e\\u0627\\u06cc\\u062a\\u0648\\u0646-\\u0648-\\u0633\\u0626\\u0648-\\u0686\\u0631\\u0627-\\u067e\\u0627\\u06cc\\u062a\\u0648\\u0646-\\u0631\\u0627-\\u0628\\u0631\\u0627\\u06cc-\\u0633\\u0626\\u0648-\\u06cc\\u0627\\u062f\",\"\\u067e\\u06cc\\u062f\\u0627-\\u06a9\\u0631\\u062f\\u0646-\\u06a9\\u0644\\u0645\\u0627\\u062a-\\u06a9\\u0644\\u06cc\\u062f\\u06cc-\\u0645\\u0639\\u0631\\u0641\\u06cc-\\u0627\\u0628\\u0632\\u0627\\u0631-\\u0647\\u0627\\u06cc\",\"\\u0686\\u06af\\u0648\\u0646\\u0647-\\u067e\\u0627\\u06cc\\u062a\\u0648\\u0646-\\u0631\\u0627-\\u06cc\\u0627\\u062f-\\u0628\\u06af\\u06cc\\u0631\\u06cc\\u0645\"],\"labels\":[\"https://rouhani.in/\",\"https://rouhani.in/author/e298a1462a3e321b64a6cd8b60252ee6/\",\"https://rouhani.in/author/e298a1462a3e321b64a6cd8b60252ee6/page/2/\",\"https://rouhani.in/blog/\",\"https://rouhani.in/blog/page/2/\",\"https://rouhani.in/cat/how-tos/\",\"https://rouhani.in/cat/\\u0622\\u0645\\u0648\\u0632\\u0634-\\u0628\\u0631\\u0646\\u0627\\u0645\\u0647-\\u0646\\u0648\\u06cc\\u0633\\u06cc/\",\"https://rouhani.in/cat/\\u0622\\u0645\\u0648\\u0632\\u0634-\\u0633\\u0626\\u0648/\",\"https://rouhani.in/cat/\\u0627\\u062e\\u0628\\u0627\\u0631/\",\"https://rouhani.in/cat/\\u062f\\u0633\\u062a\\u0647\\u200c\\u0628\\u0646\\u062f\\u06cc-\\u0646\\u0634\\u062f\\u0647/\",\"https://rouhani.in/cat/\\u0645\\u0639\\u0645\\u0627\\u0631\\u06cc-\\u0646\\u0631\\u0645-\\u0627\\u0641\\u0632\\u0627\\u0631/\",\"https://rouhani.in/cat/\\u0647\\u0648\\u0634-\\u0645\\u0635\\u0646\\u0648\\u0639\\u06cc/\",\"https://rouhani.in/page-experience/\",\"https://rouhani.in/pwa/\",\"https://rouhani.in/tag/ai/\",\"https://rouhani.in/tag/apple/\",\"https://rouhani.in/tag/ios/\",\"https://rouhani.in/tag/pwa/\",\"https://rouhani.in/tag/swift/\",\"https://rouhani.in/tag/\\u0627\\u067e\\u0644/\",\"https://rouhani.in/tag/\\u0628\\u0631\\u0646\\u0627\\u0645\\u0647-\\u0646\\u0648\\u06cc\\u0633\\u06cc/\",\"https://rouhani.in/tag/\\u0633\\u0626\\u0648/\",\"https://rouhani.in/tag/\\u0633\\u0648\\u0626\\u064a\\u0641/\",\"https://rouhani.in/tag/\\u0633\\u0648\\u0626\\u06cc\\u0641\\u062a/\",\"https://rouhani.in/tag/\\u0647\\u0648\\u0634-\\u0645\\u0635\\u0646\\u0648\\u0639\\u06cc/\",\"https://rouhani.in/tag/\\u0648\\u0628-\\u0627\\u0633\\u062a\\u0648\\u0631\\u06cc/\",\"https://rouhani.in/tag/\\u0648\\u0628-\\u0627\\u067e\\u0644\\u06cc\\u06a9\\u06cc\\u0634\\u0646/\",\"https://rouhani.in/tag/\\u067e\\u0631\\u062f\\u0627\\u0632\\u0634-\\u062a\\u0635\\u0648\\u06cc\\u0631/\",\"https://rouhani.in/wp-content/litespeed/cssjs/1863d.js?e53d3\",\"https://rouhani.in/wp-content/litespeed/cssjs/27f2e.css?22af9\",\"https://rouhani.in/wp-content/litespeed/cssjs/37bac.css?b4d02\",\"https://rouhani.in/wp-content/litespeed/cssjs/4578c.js?bef8b\",\"https://rouhani.in/wp-content/litespeed/cssjs/615e1.js?d6203\",\"https://rouhani.in/wp-content/litespeed/cssjs/6b292.js?5a05d\",\"https://rouhani.in/wp-content/litespeed/cssjs/742c6.js?dbd97\",\"https://rouhani.in/wp-content/litespeed/cssjs/75258.js?1c7e0\",\"https://rouhani.in/wp-content/litespeed/cssjs/7bf86.js?60a23\",\"https://rouhani.in/wp-content/litespeed/cssjs/84862.css?cddab\",\"https://rouhani.in/wp-content/litespeed/cssjs/874a0.js?af54e\",\"https://rouhani.in/wp-content/litespeed/cssjs/8b674.css?bc472\",\"https://rouhani.in/wp-content/litespeed/cssjs/8bcb8.js?60907\",\"https://rouhani.in/wp-content/litespeed/cssjs/9213f.js?17593\",\"https://rouhani.in/wp-content/litespeed/cssjs/ac644.js?3020a\",\"https://rouhani.in/wp-content/litespeed/cssjs/b728b.js?5b8de\",\"https://rouhani.in/wp-content/litespeed/cssjs/c114e.css?0dc2e\",\"https://rouhani.in/wp-content/litespeed/cssjs/c42fd.js?93a38\",\"https://rouhani.in/wp-content/litespeed/cssjs/cac2b.js?1cf99\",\"https://rouhani.in/wp-content/litespeed/cssjs/cd8fe.js?d327a\",\"https://rouhani.in/wp-content/litespeed/cssjs/e2b9e.css?a5e48\",\"https://rouhani.in/wp-content/litespeed/cssjs/e3629.css?f63cd\",\"https://rouhani.in/wp-content/plugins/litespeed-cache/assets/js/instant_click.min.js\",\"https://rouhani.in/wp-content/uploads/2020/09/\\u0648\\u0628-\\u0627\\u0633\\u062a\\u0648\\u0631\\u06cc.png\",\"https://rouhani.in/wp-includes/js/jquery/jquery.min.js\",\"https://rouhani.in/\\u0622\\u0645\\u0648\\u0632\\u0634-\\u0632\\u0628\\u0627\\u0646-swift-\\u0642\\u0633\\u0645\\u062a-\\u0627\\u0648\\u0644/\",\"https://rouhani.in/\\u0622\\u0645\\u0648\\u0632\\u0634-\\u0632\\u0628\\u0627\\u0646-swift-\\u0642\\u0633\\u0645\\u062a-\\u062f\\u0648\\u0645/\",\"https://rouhani.in/\\u0627\\u0646\\u0648\\u0627\\u0639-\\u0645\\u0639\\u0645\\u0627\\u0631\\u06cc-\\u0646\\u0631\\u0645-\\u0627\\u0641\\u0632\\u0627\\u0631-\\u0622\\u0645\\u0648\\u0632\\u0634-\\u0645\\u0639\\u0645\\u0627\\u0631\\u06cc-\\u0646\\u0631/\",\"https://rouhani.in/\\u0628\\u0627\\u0632\\u06cc\\u0627\\u0628\\u06cc-\\u0627\\u0637\\u0644\\u0627\\u0639\\u0627\\u062a-\\u0648-\\u0622\\u0634\\u0646\\u0627\\u06cc\\u06cc-\\u0628\\u0627-\\u0645\\u0641\\u0627\\u0647\\u06cc\\u0645-\\u0627\\u0648\\u0644/\",\"https://rouhani.in/\\u062b\\u0628\\u062a-\\u067e\\u0627\\u062f\\u06a9\\u0633\\u062a-\\u06af\\u0648\\u06af\\u0644/\",\"https://rouhani.in/\\u062c\\u0633\\u062a\\u062c\\u0648-\\u06af\\u0648\\u06af\\u0644-\\u0686\\u06af\\u0648\\u0646\\u0647-\\u06a9\\u0627\\u0631-\\u0645\\u06cc\\u06a9\\u0646\\u062f\\u061f/\",\"https://rouhani.in/\\u0632\\u0645\\u06cc\\u0646\\u0647-\\u0647\\u0627\\u06cc-\\u0645\\u0631\\u062a\\u0628\\u0637-\\u0628\\u0627-\\u0647\\u0648\\u0634-\\u0645\\u0635\\u0646\\u0648\\u0639\\u06cc/\",\"https://rouhani.in/\\u0633\\u0626\\u0648-\\u0648-\\u067e\\u0627\\u06cc\\u062a\\u0648\\u0646-\\u0646\\u0635\\u0628-\\u0628\\u0631\\u0646\\u0627\\u0645\\u0647-anaconda-\\u0648-\\u067e\\u0627\\u06cc\\u062a\\u0648\\u0646/\",\"https://rouhani.in/\\u0646\\u0645\\u0648\\u0646\\u0647-\\u0648\\u0628-\\u0627\\u0633\\u062a\\u0648\\u0631\\u06cc/\",\"https://rouhani.in/\\u0647\\u0648\\u0634-\\u0645\\u0635\\u0646\\u0648\\u0639\\u06cc-\\u0686\\u06cc\\u0633\\u062a/\",\"https://rouhani.in/\\u0648\\u0628-\\u0627\\u0633\\u062a\\u0648\\u0631\\u06cc/\",\"https://rouhani.in/\\u067e\\u0627\\u06cc\\u062a\\u0648\\u0646-\\u0648-\\u0633\\u0626\\u0648-\\u0686\\u0631\\u0627-\\u067e\\u0627\\u06cc\\u062a\\u0648\\u0646-\\u0631\\u0627-\\u0628\\u0631\\u0627\\u06cc-\\u0633\\u0626\\u0648-\\u06cc\\u0627\\u062f/\",\"https://rouhani.in/\\u067e\\u06cc\\u062f\\u0627-\\u06a9\\u0631\\u062f\\u0646-\\u06a9\\u0644\\u0645\\u0627\\u062a-\\u06a9\\u0644\\u06cc\\u062f\\u06cc-\\u0645\\u0639\\u0631\\u0641\\u06cc-\\u0627\\u0628\\u0632\\u0627\\u0631-\\u0647\\u0627\\u06cc/\",\"https://rouhani.in/\\u0686\\u06af\\u0648\\u0646\\u0647-\\u067e\\u0627\\u06cc\\u062a\\u0648\\u0646-\\u0631\\u0627-\\u06cc\\u0627\\u062f-\\u0628\\u06af\\u06cc\\u0631\\u06cc\\u0645/\",\"\",\"author\",\"blog\",\"cat\",\"page-experience\",\"pwa\",\"tag\",\"wp-content\",\"wp-includes\",\"\\u0622\\u0645\\u0648\\u0632\\u0634-\\u0632\\u0628\\u0627\\u0646-swift-\\u0642\\u0633\\u0645\\u062a-\\u0627\\u0648\\u0644\",\"\\u0622\\u0645\\u0648\\u0632\\u0634-\\u0632\\u0628\\u0627\\u0646-swift-\\u0642\\u0633\\u0645\\u062a-\\u062f\\u0648\\u0645\",\"\\u0627\\u0646\\u0648\\u0627\\u0639-\\u0645\\u0639\\u0645\\u0627\\u0631\\u06cc-\\u0646\\u0631\\u0645-\\u0627\\u0641\\u0632\\u0627\\u0631-\\u0622\\u0645\\u0648\\u0632\\u0634-\\u0645\\u0639\\u0645\\u0627\\u0631\\u06cc-\\u0646\\u0631\",\"\\u0628\\u0627\\u0632\\u06cc\\u0627\\u0628\\u06cc-\\u0627\\u0637\\u0644\\u0627\\u0639\\u0627\\u062a-\\u0648-\\u0622\\u0634\\u0646\\u0627\\u06cc\\u06cc-\\u0628\\u0627-\\u0645\\u0641\\u0627\\u0647\\u06cc\\u0645-\\u0627\\u0648\\u0644\",\"\\u062b\\u0628\\u062a-\\u067e\\u0627\\u062f\\u06a9\\u0633\\u062a-\\u06af\\u0648\\u06af\\u0644\",\"\\u062c\\u0633\\u062a\\u062c\\u0648-\\u06af\\u0648\\u06af\\u0644-\\u0686\\u06af\\u0648\\u0646\\u0647-\\u06a9\\u0627\\u0631-\\u0645\\u06cc\\u06a9\\u0646\\u062f\\u061f\",\"\\u0632\\u0645\\u06cc\\u0646\\u0647-\\u0647\\u0627\\u06cc-\\u0645\\u0631\\u062a\\u0628\\u0637-\\u0628\\u0627-\\u0647\\u0648\\u0634-\\u0645\\u0635\\u0646\\u0648\\u0639\\u06cc\",\"\\u0633\\u0626\\u0648-\\u0648-\\u067e\\u0627\\u06cc\\u062a\\u0648\\u0646-\\u0646\\u0635\\u0628-\\u0628\\u0631\\u0646\\u0627\\u0645\\u0647-anaconda-\\u0648-\\u067e\\u0627\\u06cc\\u062a\\u0648\\u0646\",\"\\u0646\\u0645\\u0648\\u0646\\u0647-\\u0648\\u0628-\\u0627\\u0633\\u062a\\u0648\\u0631\\u06cc\",\"\\u0647\\u0648\\u0634-\\u0645\\u0635\\u0646\\u0648\\u0639\\u06cc-\\u0686\\u06cc\\u0633\\u062a\",\"\\u0648\\u0628-\\u0627\\u0633\\u062a\\u0648\\u0631\\u06cc\",\"\\u067e\\u0627\\u06cc\\u062a\\u0648\\u0646-\\u0648-\\u0633\\u0626\\u0648-\\u0686\\u0631\\u0627-\\u067e\\u0627\\u06cc\\u062a\\u0648\\u0646-\\u0631\\u0627-\\u0628\\u0631\\u0627\\u06cc-\\u0633\\u0626\\u0648-\\u06cc\\u0627\\u062f\",\"\\u067e\\u06cc\\u062f\\u0627-\\u06a9\\u0631\\u062f\\u0646-\\u06a9\\u0644\\u0645\\u0627\\u062a-\\u06a9\\u0644\\u06cc\\u062f\\u06cc-\\u0645\\u0639\\u0631\\u0641\\u06cc-\\u0627\\u0628\\u0632\\u0627\\u0631-\\u0647\\u0627\\u06cc\",\"\\u0686\\u06af\\u0648\\u0646\\u0647-\\u067e\\u0627\\u06cc\\u062a\\u0648\\u0646-\\u0631\\u0627-\\u06cc\\u0627\\u062f-\\u0628\\u06af\\u06cc\\u0631\\u06cc\\u0645\"],\"name\":\"\",\"parents\":[\"\",\"author\",\"author\",\"blog\",\"blog\",\"cat\",\"cat\",\"cat\",\"cat\",\"cat\",\"cat\",\"cat\",\"page-experience\",\"pwa\",\"tag\",\"tag\",\"tag\",\"tag\",\"tag\",\"tag\",\"tag\",\"tag\",\"tag\",\"tag\",\"tag\",\"tag\",\"tag\",\"tag\",\"wp-content\",\"wp-content\",\"wp-content\",\"wp-content\",\"wp-content\",\"wp-content\",\"wp-content\",\"wp-content\",\"wp-content\",\"wp-content\",\"wp-content\",\"wp-content\",\"wp-content\",\"wp-content\",\"wp-content\",\"wp-content\",\"wp-content\",\"wp-content\",\"wp-content\",\"wp-content\",\"wp-content\",\"wp-content\",\"wp-content\",\"wp-content\",\"wp-includes\",\"\\u0622\\u0645\\u0648\\u0632\\u0634-\\u0632\\u0628\\u0627\\u0646-swift-\\u0642\\u0633\\u0645\\u062a-\\u0627\\u0648\\u0644\",\"\\u0622\\u0645\\u0648\\u0632\\u0634-\\u0632\\u0628\\u0627\\u0646-swift-\\u0642\\u0633\\u0645\\u062a-\\u062f\\u0648\\u0645\",\"\\u0627\\u0646\\u0648\\u0627\\u0639-\\u0645\\u0639\\u0645\\u0627\\u0631\\u06cc-\\u0646\\u0631\\u0645-\\u0627\\u0641\\u0632\\u0627\\u0631-\\u0622\\u0645\\u0648\\u0632\\u0634-\\u0645\\u0639\\u0645\\u0627\\u0631\\u06cc-\\u0646\\u0631\",\"\\u0628\\u0627\\u0632\\u06cc\\u0627\\u0628\\u06cc-\\u0627\\u0637\\u0644\\u0627\\u0639\\u0627\\u062a-\\u0648-\\u0622\\u0634\\u0646\\u0627\\u06cc\\u06cc-\\u0628\\u0627-\\u0645\\u0641\\u0627\\u0647\\u06cc\\u0645-\\u0627\\u0648\\u0644\",\"\\u062b\\u0628\\u062a-\\u067e\\u0627\\u062f\\u06a9\\u0633\\u062a-\\u06af\\u0648\\u06af\\u0644\",\"\\u062c\\u0633\\u062a\\u062c\\u0648-\\u06af\\u0648\\u06af\\u0644-\\u0686\\u06af\\u0648\\u0646\\u0647-\\u06a9\\u0627\\u0631-\\u0645\\u06cc\\u06a9\\u0646\\u062f\\u061f\",\"\\u0632\\u0645\\u06cc\\u0646\\u0647-\\u0647\\u0627\\u06cc-\\u0645\\u0631\\u062a\\u0628\\u0637-\\u0628\\u0627-\\u0647\\u0648\\u0634-\\u0645\\u0635\\u0646\\u0648\\u0639\\u06cc\",\"\\u0633\\u0626\\u0648-\\u0648-\\u067e\\u0627\\u06cc\\u062a\\u0648\\u0646-\\u0646\\u0635\\u0628-\\u0628\\u0631\\u0646\\u0627\\u0645\\u0647-anaconda-\\u0648-\\u067e\\u0627\\u06cc\\u062a\\u0648\\u0646\",\"\\u0646\\u0645\\u0648\\u0646\\u0647-\\u0648\\u0628-\\u0627\\u0633\\u062a\\u0648\\u0631\\u06cc\",\"\\u0647\\u0648\\u0634-\\u0645\\u0635\\u0646\\u0648\\u0639\\u06cc-\\u0686\\u06cc\\u0633\\u062a\",\"\\u0648\\u0628-\\u0627\\u0633\\u062a\\u0648\\u0631\\u06cc\",\"\\u067e\\u0627\\u06cc\\u062a\\u0648\\u0646-\\u0648-\\u0633\\u0626\\u0648-\\u0686\\u0631\\u0627-\\u067e\\u0627\\u06cc\\u062a\\u0648\\u0646-\\u0631\\u0627-\\u0628\\u0631\\u0627\\u06cc-\\u0633\\u0626\\u0648-\\u06cc\\u0627\\u062f\",\"\\u067e\\u06cc\\u062f\\u0627-\\u06a9\\u0631\\u062f\\u0646-\\u06a9\\u0644\\u0645\\u0627\\u062a-\\u06a9\\u0644\\u06cc\\u062f\\u06cc-\\u0645\\u0639\\u0631\\u0641\\u06cc-\\u0627\\u0628\\u0632\\u0627\\u0631-\\u0647\\u0627\\u06cc\",\"\\u0686\\u06af\\u0648\\u0646\\u0647-\\u067e\\u0627\\u06cc\\u062a\\u0648\\u0646-\\u0631\\u0627-\\u06cc\\u0627\\u062f-\\u0628\\u06af\\u06cc\\u0631\\u06cc\\u0645\",\"\",\"\",\"\",\"\",\"\",\"\",\"\",\"\",\"\",\"\",\"\",\"\",\"\",\"\",\"\",\"\",\"\",\"\",\"\",\"\",\"\",\"\",\"\"],\"type\":\"treemap\",\"values\":[227,123,20,56,20,145,49,229,31,38,150,20,85,44,19,19,19,19,20,19,19,19,19,19,19,19,19,19,0,0,0,0,0,0,0,0,0,0,0,0,0,0,0,0,0,0,0,0,0,0,0,0,0,46,31,27,37,27,88,27,72,27,27,39,76,37,86,227,143,76,662,85,44,267,0,0,46,31,27,37,27,88,27,72,27,27,39,76,37,86]}],                        {\"legend\":{\"tracegroupgap\":0},\"margin\":{\"t\":60},\"template\":{\"data\":{\"bar\":[{\"error_x\":{\"color\":\"#2a3f5f\"},\"error_y\":{\"color\":\"#2a3f5f\"},\"marker\":{\"line\":{\"color\":\"#E5ECF6\",\"width\":0.5},\"pattern\":{\"fillmode\":\"overlay\",\"size\":10,\"solidity\":0.2}},\"type\":\"bar\"}],\"barpolar\":[{\"marker\":{\"line\":{\"color\":\"#E5ECF6\",\"width\":0.5},\"pattern\":{\"fillmode\":\"overlay\",\"size\":10,\"solidity\":0.2}},\"type\":\"barpolar\"}],\"carpet\":[{\"aaxis\":{\"endlinecolor\":\"#2a3f5f\",\"gridcolor\":\"white\",\"linecolor\":\"white\",\"minorgridcolor\":\"white\",\"startlinecolor\":\"#2a3f5f\"},\"baxis\":{\"endlinecolor\":\"#2a3f5f\",\"gridcolor\":\"white\",\"linecolor\":\"white\",\"minorgridcolor\":\"white\",\"startlinecolor\":\"#2a3f5f\"},\"type\":\"carpet\"}],\"choropleth\":[{\"colorbar\":{\"outlinewidth\":0,\"ticks\":\"\"},\"type\":\"choropleth\"}],\"contour\":[{\"colorbar\":{\"outlinewidth\":0,\"ticks\":\"\"},\"colorscale\":[[0.0,\"#0d0887\"],[0.1111111111111111,\"#46039f\"],[0.2222222222222222,\"#7201a8\"],[0.3333333333333333,\"#9c179e\"],[0.4444444444444444,\"#bd3786\"],[0.5555555555555556,\"#d8576b\"],[0.6666666666666666,\"#ed7953\"],[0.7777777777777778,\"#fb9f3a\"],[0.8888888888888888,\"#fdca26\"],[1.0,\"#f0f921\"]],\"type\":\"contour\"}],\"contourcarpet\":[{\"colorbar\":{\"outlinewidth\":0,\"ticks\":\"\"},\"type\":\"contourcarpet\"}],\"heatmap\":[{\"colorbar\":{\"outlinewidth\":0,\"ticks\":\"\"},\"colorscale\":[[0.0,\"#0d0887\"],[0.1111111111111111,\"#46039f\"],[0.2222222222222222,\"#7201a8\"],[0.3333333333333333,\"#9c179e\"],[0.4444444444444444,\"#bd3786\"],[0.5555555555555556,\"#d8576b\"],[0.6666666666666666,\"#ed7953\"],[0.7777777777777778,\"#fb9f3a\"],[0.8888888888888888,\"#fdca26\"],[1.0,\"#f0f921\"]],\"type\":\"heatmap\"}],\"heatmapgl\":[{\"colorbar\":{\"outlinewidth\":0,\"ticks\":\"\"},\"colorscale\":[[0.0,\"#0d0887\"],[0.1111111111111111,\"#46039f\"],[0.2222222222222222,\"#7201a8\"],[0.3333333333333333,\"#9c179e\"],[0.4444444444444444,\"#bd3786\"],[0.5555555555555556,\"#d8576b\"],[0.6666666666666666,\"#ed7953\"],[0.7777777777777778,\"#fb9f3a\"],[0.8888888888888888,\"#fdca26\"],[1.0,\"#f0f921\"]],\"type\":\"heatmapgl\"}],\"histogram\":[{\"marker\":{\"pattern\":{\"fillmode\":\"overlay\",\"size\":10,\"solidity\":0.2}},\"type\":\"histogram\"}],\"histogram2d\":[{\"colorbar\":{\"outlinewidth\":0,\"ticks\":\"\"},\"colorscale\":[[0.0,\"#0d0887\"],[0.1111111111111111,\"#46039f\"],[0.2222222222222222,\"#7201a8\"],[0.3333333333333333,\"#9c179e\"],[0.4444444444444444,\"#bd3786\"],[0.5555555555555556,\"#d8576b\"],[0.6666666666666666,\"#ed7953\"],[0.7777777777777778,\"#fb9f3a\"],[0.8888888888888888,\"#fdca26\"],[1.0,\"#f0f921\"]],\"type\":\"histogram2d\"}],\"histogram2dcontour\":[{\"colorbar\":{\"outlinewidth\":0,\"ticks\":\"\"},\"colorscale\":[[0.0,\"#0d0887\"],[0.1111111111111111,\"#46039f\"],[0.2222222222222222,\"#7201a8\"],[0.3333333333333333,\"#9c179e\"],[0.4444444444444444,\"#bd3786\"],[0.5555555555555556,\"#d8576b\"],[0.6666666666666666,\"#ed7953\"],[0.7777777777777778,\"#fb9f3a\"],[0.8888888888888888,\"#fdca26\"],[1.0,\"#f0f921\"]],\"type\":\"histogram2dcontour\"}],\"mesh3d\":[{\"colorbar\":{\"outlinewidth\":0,\"ticks\":\"\"},\"type\":\"mesh3d\"}],\"parcoords\":[{\"line\":{\"colorbar\":{\"outlinewidth\":0,\"ticks\":\"\"}},\"type\":\"parcoords\"}],\"pie\":[{\"automargin\":true,\"type\":\"pie\"}],\"scatter\":[{\"marker\":{\"colorbar\":{\"outlinewidth\":0,\"ticks\":\"\"}},\"type\":\"scatter\"}],\"scatter3d\":[{\"line\":{\"colorbar\":{\"outlinewidth\":0,\"ticks\":\"\"}},\"marker\":{\"colorbar\":{\"outlinewidth\":0,\"ticks\":\"\"}},\"type\":\"scatter3d\"}],\"scattercarpet\":[{\"marker\":{\"colorbar\":{\"outlinewidth\":0,\"ticks\":\"\"}},\"type\":\"scattercarpet\"}],\"scattergeo\":[{\"marker\":{\"colorbar\":{\"outlinewidth\":0,\"ticks\":\"\"}},\"type\":\"scattergeo\"}],\"scattergl\":[{\"marker\":{\"colorbar\":{\"outlinewidth\":0,\"ticks\":\"\"}},\"type\":\"scattergl\"}],\"scattermapbox\":[{\"marker\":{\"colorbar\":{\"outlinewidth\":0,\"ticks\":\"\"}},\"type\":\"scattermapbox\"}],\"scatterpolar\":[{\"marker\":{\"colorbar\":{\"outlinewidth\":0,\"ticks\":\"\"}},\"type\":\"scatterpolar\"}],\"scatterpolargl\":[{\"marker\":{\"colorbar\":{\"outlinewidth\":0,\"ticks\":\"\"}},\"type\":\"scatterpolargl\"}],\"scatterternary\":[{\"marker\":{\"colorbar\":{\"outlinewidth\":0,\"ticks\":\"\"}},\"type\":\"scatterternary\"}],\"surface\":[{\"colorbar\":{\"outlinewidth\":0,\"ticks\":\"\"},\"colorscale\":[[0.0,\"#0d0887\"],[0.1111111111111111,\"#46039f\"],[0.2222222222222222,\"#7201a8\"],[0.3333333333333333,\"#9c179e\"],[0.4444444444444444,\"#bd3786\"],[0.5555555555555556,\"#d8576b\"],[0.6666666666666666,\"#ed7953\"],[0.7777777777777778,\"#fb9f3a\"],[0.8888888888888888,\"#fdca26\"],[1.0,\"#f0f921\"]],\"type\":\"surface\"}],\"table\":[{\"cells\":{\"fill\":{\"color\":\"#EBF0F8\"},\"line\":{\"color\":\"white\"}},\"header\":{\"fill\":{\"color\":\"#C8D4E3\"},\"line\":{\"color\":\"white\"}},\"type\":\"table\"}]},\"layout\":{\"annotationdefaults\":{\"arrowcolor\":\"#2a3f5f\",\"arrowhead\":0,\"arrowwidth\":1},\"autotypenumbers\":\"strict\",\"coloraxis\":{\"colorbar\":{\"outlinewidth\":0,\"ticks\":\"\"}},\"colorscale\":{\"diverging\":[[0,\"#8e0152\"],[0.1,\"#c51b7d\"],[0.2,\"#de77ae\"],[0.3,\"#f1b6da\"],[0.4,\"#fde0ef\"],[0.5,\"#f7f7f7\"],[0.6,\"#e6f5d0\"],[0.7,\"#b8e186\"],[0.8,\"#7fbc41\"],[0.9,\"#4d9221\"],[1,\"#276419\"]],\"sequential\":[[0.0,\"#0d0887\"],[0.1111111111111111,\"#46039f\"],[0.2222222222222222,\"#7201a8\"],[0.3333333333333333,\"#9c179e\"],[0.4444444444444444,\"#bd3786\"],[0.5555555555555556,\"#d8576b\"],[0.6666666666666666,\"#ed7953\"],[0.7777777777777778,\"#fb9f3a\"],[0.8888888888888888,\"#fdca26\"],[1.0,\"#f0f921\"]],\"sequentialminus\":[[0.0,\"#0d0887\"],[0.1111111111111111,\"#46039f\"],[0.2222222222222222,\"#7201a8\"],[0.3333333333333333,\"#9c179e\"],[0.4444444444444444,\"#bd3786\"],[0.5555555555555556,\"#d8576b\"],[0.6666666666666666,\"#ed7953\"],[0.7777777777777778,\"#fb9f3a\"],[0.8888888888888888,\"#fdca26\"],[1.0,\"#f0f921\"]]},\"colorway\":[\"#636efa\",\"#EF553B\",\"#00cc96\",\"#ab63fa\",\"#FFA15A\",\"#19d3f3\",\"#FF6692\",\"#B6E880\",\"#FF97FF\",\"#FECB52\"],\"font\":{\"color\":\"#2a3f5f\"},\"geo\":{\"bgcolor\":\"white\",\"lakecolor\":\"white\",\"landcolor\":\"#E5ECF6\",\"showlakes\":true,\"showland\":true,\"subunitcolor\":\"white\"},\"hoverlabel\":{\"align\":\"left\"},\"hovermode\":\"closest\",\"mapbox\":{\"style\":\"light\"},\"paper_bgcolor\":\"white\",\"plot_bgcolor\":\"#E5ECF6\",\"polar\":{\"angularaxis\":{\"gridcolor\":\"white\",\"linecolor\":\"white\",\"ticks\":\"\"},\"bgcolor\":\"#E5ECF6\",\"radialaxis\":{\"gridcolor\":\"white\",\"linecolor\":\"white\",\"ticks\":\"\"}},\"scene\":{\"xaxis\":{\"backgroundcolor\":\"#E5ECF6\",\"gridcolor\":\"white\",\"gridwidth\":2,\"linecolor\":\"white\",\"showbackground\":true,\"ticks\":\"\",\"zerolinecolor\":\"white\"},\"yaxis\":{\"backgroundcolor\":\"#E5ECF6\",\"gridcolor\":\"white\",\"gridwidth\":2,\"linecolor\":\"white\",\"showbackground\":true,\"ticks\":\"\",\"zerolinecolor\":\"white\"},\"zaxis\":{\"backgroundcolor\":\"#E5ECF6\",\"gridcolor\":\"white\",\"gridwidth\":2,\"linecolor\":\"white\",\"showbackground\":true,\"ticks\":\"\",\"zerolinecolor\":\"white\"}},\"shapedefaults\":{\"line\":{\"color\":\"#2a3f5f\"}},\"ternary\":{\"aaxis\":{\"gridcolor\":\"white\",\"linecolor\":\"white\",\"ticks\":\"\"},\"baxis\":{\"gridcolor\":\"white\",\"linecolor\":\"white\",\"ticks\":\"\"},\"bgcolor\":\"#E5ECF6\",\"caxis\":{\"gridcolor\":\"white\",\"linecolor\":\"white\",\"ticks\":\"\"}},\"title\":{\"x\":0.05},\"xaxis\":{\"automargin\":true,\"gridcolor\":\"white\",\"linecolor\":\"white\",\"ticks\":\"\",\"title\":{\"standoff\":15},\"zerolinecolor\":\"white\",\"zerolinewidth\":2},\"yaxis\":{\"automargin\":true,\"gridcolor\":\"white\",\"linecolor\":\"white\",\"ticks\":\"\",\"title\":{\"standoff\":15},\"zerolinecolor\":\"white\",\"zerolinewidth\":2}}}},                        {\"responsive\": true}                    ).then(function(){\n",
              "                            \n",
              "var gd = document.getElementById('d3e0de28-34d7-40fc-b45f-8934a28efa01');\n",
              "var x = new MutationObserver(function (mutations, observer) {{\n",
              "        var display = window.getComputedStyle(gd).display;\n",
              "        if (!display || display === 'none') {{\n",
              "            console.log([gd, 'removed!']);\n",
              "            Plotly.purge(gd);\n",
              "            observer.disconnect();\n",
              "        }}\n",
              "}});\n",
              "\n",
              "// Listen for the removal of the full notebook cells\n",
              "var notebookContainer = gd.closest('#notebook-container');\n",
              "if (notebookContainer) {{\n",
              "    x.observe(notebookContainer, {childList: true});\n",
              "}}\n",
              "\n",
              "// Listen for the clearing of the current output cell\n",
              "var outputEl = gd.closest('.output');\n",
              "if (outputEl) {{\n",
              "    x.observe(outputEl, {childList: true});\n",
              "}}\n",
              "\n",
              "                        })                };                            </script>        </div>\n",
              "</body>\n",
              "</html>"
            ]
          },
          "metadata": {
            "tags": []
          }
        }
      ]
    },
    {
      "cell_type": "code",
      "metadata": {
        "colab": {
          "base_uri": "https://localhost:8080/",
          "height": 17
        },
        "id": "fHVmwADw22Xe",
        "outputId": "8616b569-a1b2-4522-e5fe-b7e6712550a6"
      },
      "source": [
        "fig.write_html(\"internal_links_treemap.html\")\n",
        "files.download(\"internal_links_treemap.html\")"
      ],
      "execution_count": 41,
      "outputs": [
        {
          "output_type": "display_data",
          "data": {
            "application/javascript": [
              "\n",
              "    async function download(id, filename, size) {\n",
              "      if (!google.colab.kernel.accessAllowed) {\n",
              "        return;\n",
              "      }\n",
              "      const div = document.createElement('div');\n",
              "      const label = document.createElement('label');\n",
              "      label.textContent = `Downloading \"${filename}\": `;\n",
              "      div.appendChild(label);\n",
              "      const progress = document.createElement('progress');\n",
              "      progress.max = size;\n",
              "      div.appendChild(progress);\n",
              "      document.body.appendChild(div);\n",
              "\n",
              "      const buffers = [];\n",
              "      let downloaded = 0;\n",
              "\n",
              "      const channel = await google.colab.kernel.comms.open(id);\n",
              "      // Send a message to notify the kernel that we're ready.\n",
              "      channel.send({})\n",
              "\n",
              "      for await (const message of channel.messages) {\n",
              "        // Send a message to notify the kernel that we're ready.\n",
              "        channel.send({})\n",
              "        if (message.buffers) {\n",
              "          for (const buffer of message.buffers) {\n",
              "            buffers.push(buffer);\n",
              "            downloaded += buffer.byteLength;\n",
              "            progress.value = downloaded;\n",
              "          }\n",
              "        }\n",
              "      }\n",
              "      const blob = new Blob(buffers, {type: 'application/binary'});\n",
              "      const a = document.createElement('a');\n",
              "      a.href = window.URL.createObjectURL(blob);\n",
              "      a.download = filename;\n",
              "      div.appendChild(a);\n",
              "      a.click();\n",
              "      div.remove();\n",
              "    }\n",
              "  "
            ],
            "text/plain": [
              "<IPython.core.display.Javascript object>"
            ]
          },
          "metadata": {
            "tags": []
          }
        },
        {
          "output_type": "display_data",
          "data": {
            "application/javascript": [
              "download(\"download_6045b924-26c5-453e-a6ad-415c66582adf\", \"internal_links_treemap.html\", 3552114)"
            ],
            "text/plain": [
              "<IPython.core.display.Javascript object>"
            ]
          },
          "metadata": {
            "tags": []
          }
        }
      ]
    }
  ]
}